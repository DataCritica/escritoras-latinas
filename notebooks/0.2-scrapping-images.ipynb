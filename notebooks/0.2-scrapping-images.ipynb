{
 "cells": [
  {
   "cell_type": "markdown",
   "metadata": {},
   "source": [
    "### Imports"
   ]
  },
  {
   "cell_type": "code",
   "execution_count": 1,
   "metadata": {},
   "outputs": [],
   "source": [
    "%load_ext autoreload\n",
    "%autoreload 2"
   ]
  },
  {
   "cell_type": "code",
   "execution_count": 2,
   "metadata": {},
   "outputs": [],
   "source": [
    "import re\n",
    "import requests\n",
    "import subprocess\n",
    "from bs4 import BeautifulSoup\n",
    "from contextlib import suppress\n",
    "import escritoras_latinas.data.load as load\n",
    "import pandas as pd"
   ]
  },
  {
   "cell_type": "markdown",
   "metadata": {},
   "source": [
    "### Load data"
   ]
  },
  {
   "cell_type": "code",
   "execution_count": 3,
   "metadata": {},
   "outputs": [],
   "source": [
    "data_processed = load.data_processed\n",
    "data_escritoras = load.data_escritoras\n",
    "assets = load.assets"
   ]
  },
  {
   "cell_type": "markdown",
   "metadata": {},
   "source": [
    "### Read data"
   ]
  },
  {
   "cell_type": "code",
   "execution_count": 4,
   "metadata": {},
   "outputs": [
    {
     "data": {
      "text/html": [
       "<div>\n",
       "<style scoped>\n",
       "    .dataframe tbody tr th:only-of-type {\n",
       "        vertical-align: middle;\n",
       "    }\n",
       "\n",
       "    .dataframe tbody tr th {\n",
       "        vertical-align: top;\n",
       "    }\n",
       "\n",
       "    .dataframe thead th {\n",
       "        text-align: right;\n",
       "    }\n",
       "</style>\n",
       "<table border=\"1\" class=\"dataframe\">\n",
       "  <thead>\n",
       "    <tr style=\"text-align: right;\">\n",
       "      <th></th>\n",
       "      <th>Nombre</th>\n",
       "      <th>Url</th>\n",
       "      <th>País</th>\n",
       "      <th>Biografía</th>\n",
       "    </tr>\n",
       "  </thead>\n",
       "  <tbody>\n",
       "    <tr>\n",
       "      <th>401</th>\n",
       "      <td>Marjorie Agosín</td>\n",
       "      <td>https://es.wikipedia.org/wiki/Marjorie_Agos%C3...</td>\n",
       "      <td>Chile</td>\n",
       "      <td>Marjorie Agosín (15 de junio de 1955) es una e...</td>\n",
       "    </tr>\n",
       "  </tbody>\n",
       "</table>\n",
       "</div>"
      ],
      "text/plain": [
       "              Nombre                                                Url  \\\n",
       "401  Marjorie Agosín  https://es.wikipedia.org/wiki/Marjorie_Agos%C3...   \n",
       "\n",
       "      País                                          Biografía  \n",
       "401  Chile  Marjorie Agosín (15 de junio de 1955) es una e...  "
      ]
     },
     "execution_count": 4,
     "metadata": {},
     "output_type": "execute_result"
    }
   ],
   "source": [
    "# Read 'csv' file as dataframe\n",
    "df = pd.read_csv(f'{data_escritoras}')\n",
    "\n",
    "# Create a list from a column values\n",
    "urls = df['Url'].tolist()\n",
    "\n",
    "df.sample(1)"
   ]
  },
  {
   "cell_type": "markdown",
   "metadata": {},
   "source": [
    "### Web scrapping"
   ]
  },
  {
   "cell_type": "code",
   "execution_count": 5,
   "metadata": {},
   "outputs": [],
   "source": [
    "# HTML parsing to download images from Wikipedia\n",
    "for url in urls:\n",
    "    response = requests.get(url)\n",
    "    # Return content of the response\n",
    "    html = response.text\n",
    "    # Parse html\n",
    "    soup = BeautifulSoup(html, 'html.parser')\n",
    "    # Look for <h1> tag with 'firstHeading' id\n",
    "    title = soup.find('h1', attrs = {'id': 'firstHeading'})\n",
    "    # Extract text from tag\n",
    "    text = title.text\n",
    "    # Process text\n",
    "    name = text.lower().replace(' ', '_')\n",
    "    # Look for <a> tag with 'image' class\n",
    "    imgs = soup.find('a', attrs = {'class':'image'})\n",
    "    # Handle known exceptions\n",
    "    with suppress(Exception):\n",
    "        # Look for <img> tag\n",
    "        for img in imgs.find_all('img'):\n",
    "            # Process url\n",
    "            img = img['src'].replace('//','https://')\n",
    "            # Ignore url with 'svg' extension\n",
    "            if re.findall(r'.*\\.(svg).*', img):\n",
    "                continue\n",
    "            else:\n",
    "                # Match extension from url    \n",
    "                extension = re.findall(r'.*\\.(jpg|JPG|jpeg|JPEG|png|PNG)$', img)\n",
    "                # Create file name\n",
    "                filename = name+'.'+extension[0]\n",
    "                # Download image using 'wget' command\n",
    "                cmd = ['wget', '-O', f'{assets}/imgs/{filename}', img]\n",
    "                # Run the command to download\n",
    "                subprocess.run(cmd, stdout=subprocess.DEVNULL, stderr=subprocess.STDOUT)"
   ]
  }
 ],
 "metadata": {
  "interpreter": {
   "hash": "2a91c256cba68ef4286877bafc2856ddf7e6162eb38ea98735520b4dcbd73072"
  },
  "kernelspec": {
   "display_name": "Python 3.8.10 ('escritoras_latinas-kyucqLTu')",
   "language": "python",
   "name": "python3"
  },
  "language_info": {
   "codemirror_mode": {
    "name": "ipython",
    "version": 3
   },
   "file_extension": ".py",
   "mimetype": "text/x-python",
   "name": "python",
   "nbconvert_exporter": "python",
   "pygments_lexer": "ipython3",
   "version": "3.8.10"
  },
  "orig_nbformat": 4
 },
 "nbformat": 4,
 "nbformat_minor": 2
}
