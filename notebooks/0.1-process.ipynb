{
 "cells": [
  {
   "cell_type": "code",
   "execution_count": 1,
   "metadata": {},
   "outputs": [],
   "source": [
    "import pandas as pd\n",
    "import networkx as nx\n",
    "from pyvis.network import Network"
   ]
  },
  {
   "cell_type": "code",
   "execution_count": 96,
   "metadata": {},
   "outputs": [],
   "source": [
    "df = pd.read_csv('../data/raw/data.csv')"
   ]
  },
  {
   "cell_type": "code",
   "execution_count": 97,
   "metadata": {},
   "outputs": [],
   "source": [
    "net = Network(height='100%', width='100%', notebook=True, bgcolor='#222222', font_color='white')"
   ]
  },
  {
   "cell_type": "code",
   "execution_count": 98,
   "metadata": {},
   "outputs": [],
   "source": [
    "source = df['País']\n",
    "target = df['Escritora']\n",
    "bio = df['Biografía']"
   ]
  },
  {
   "cell_type": "code",
   "execution_count": 99,
   "metadata": {},
   "outputs": [],
   "source": [
    "edge_data = zip(source, target, bio)"
   ]
  },
  {
   "cell_type": "code",
   "execution_count": 101,
   "metadata": {},
   "outputs": [],
   "source": [
    "# Create a node for each element on the iterator\n",
    "for e in edge_data:\n",
    "    src = e[0]\n",
    "    tgt = e[1]\n",
    "    bio = e[2]\n",
    "    net.add_node(src, src, size=15, title=src, color=' #0200ff')\n",
    "    net.add_node(tgt, tgt, size=15, title=bio, color='#23DC5F')\n",
    "    net.add_edge(src, tgt, color='#DC23A0')"
   ]
  },
  {
   "cell_type": "code",
   "execution_count": 103,
   "metadata": {},
   "outputs": [],
   "source": [
    "for node in net.nodes:\n",
    "    node['title'] += '<br><br><a href=\"https://www.datacritica.org\" target=\"_blank\">Leer más</a>'"
   ]
  },
  {
   "cell_type": "code",
   "execution_count": 105,
   "metadata": {},
   "outputs": [
    {
     "data": {
      "text/html": [
       "\n",
       "        <iframe\n",
       "            width=\"100%\"\n",
       "            height=\"100%\"\n",
       "            src=\"../outputs/figures/test.html\"\n",
       "            frameborder=\"0\"\n",
       "            allowfullscreen\n",
       "            \n",
       "        ></iframe>\n",
       "        "
      ],
      "text/plain": [
       "<IPython.lib.display.IFrame at 0x7faa788eb2b0>"
      ]
     },
     "execution_count": 105,
     "metadata": {},
     "output_type": "execute_result"
    }
   ],
   "source": [
    "net.set_options('''\n",
    "var options = {\n",
    "  \"physics\": {\n",
    "    \"barnesHut\": {\n",
    "      \"gravitationalConstant\": -9150,\n",
    "      \"centralGravity\": 0.2,\n",
    "      \"springConstant\": 0.11\n",
    "    },\n",
    "    \"minVelocity\": 0.75\n",
    "  }\n",
    "}\n",
    "''')\n",
    "\n",
    "\n",
    "net.show(\"../outputs/figures/test.html\")"
   ]
  }
 ],
 "metadata": {
  "interpreter": {
   "hash": "2a91c256cba68ef4286877bafc2856ddf7e6162eb38ea98735520b4dcbd73072"
  },
  "kernelspec": {
   "display_name": "Python 3.8.10 ('escritoras_latinas-kyucqLTu')",
   "language": "python",
   "name": "python3"
  },
  "language_info": {
   "codemirror_mode": {
    "name": "ipython",
    "version": 3
   },
   "file_extension": ".py",
   "mimetype": "text/x-python",
   "name": "python",
   "nbconvert_exporter": "python",
   "pygments_lexer": "ipython3",
   "version": "3.8.10"
  },
  "orig_nbformat": 4
 },
 "nbformat": 4,
 "nbformat_minor": 2
}
