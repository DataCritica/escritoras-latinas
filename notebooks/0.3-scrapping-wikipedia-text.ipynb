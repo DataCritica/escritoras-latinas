{
 "cells": [
  {
   "cell_type": "markdown",
   "metadata": {},
   "source": [
    "### Imports"
   ]
  },
  {
   "cell_type": "code",
   "execution_count": 16,
   "metadata": {},
   "outputs": [],
   "source": [
    "import re\n",
    "import requests\n",
    "from bs4 import BeautifulSoup\n",
    "import escritoras_latinas.data.load as load\n",
    "import pandas as pd"
   ]
  },
  {
   "cell_type": "markdown",
   "metadata": {},
   "source": [
    "### Load data"
   ]
  },
  {
   "cell_type": "code",
   "execution_count": 14,
   "metadata": {},
   "outputs": [],
   "source": [
    "data_raw = load.data_raw\n",
    "data_processed = load.data_processed\n",
    "processed = load.processed\n",
    "assets = load.assets"
   ]
  },
  {
   "cell_type": "markdown",
   "metadata": {},
   "source": [
    "### Read data"
   ]
  },
  {
   "cell_type": "code",
   "execution_count": 15,
   "metadata": {},
   "outputs": [
    {
     "data": {
      "text/plain": [
       "(1116, 4)"
      ]
     },
     "execution_count": 15,
     "metadata": {},
     "output_type": "execute_result"
    }
   ],
   "source": [
    "# Read 'csv' file as dataframe\n",
    "df = pd.read_csv(f'{data_processed}')\n",
    "\n",
    "# Create a list from a column values\n",
    "urls = df['Url'].tolist()\n",
    "\n",
    "# Show sample from dataframe\n",
    "df.shape"
   ]
  },
  {
   "cell_type": "markdown",
   "metadata": {},
   "source": [
    "### Process data"
   ]
  },
  {
   "cell_type": "code",
   "execution_count": 7,
   "metadata": {},
   "outputs": [
    {
     "data": {
      "text/plain": [
       "1116"
      ]
     },
     "execution_count": 7,
     "metadata": {},
     "output_type": "execute_result"
    }
   ],
   "source": [
    "# Convert column to list\n",
    "urls = df['Url'].tolist()\n",
    "len(urls)"
   ]
  },
  {
   "cell_type": "markdown",
   "metadata": {},
   "source": [
    "### Web scraping"
   ]
  },
  {
   "cell_type": "code",
   "execution_count": 8,
   "metadata": {},
   "outputs": [],
   "source": [
    "# HTML parsing to download text from Wikipedia entries\n",
    "entries = []\n",
    "for i in range(len(urls)):\n",
    "    response = requests.get(urls[i])\n",
    "    # Return content of the response\n",
    "    html = response.text\n",
    "    # Parse html\n",
    "    soup = BeautifulSoup(html, 'html.parser')\n",
    "    text = ''\n",
    "    # Extract plain text from <p> tags\n",
    "    for paragraph in soup.find_all('p'):\n",
    "        text += paragraph.text\n",
    "    # Clean text with regular expressions\n",
    "    text = re.sub(r'\\n', '', text) # new lines\n",
    "    text = re.sub(r'\\u200b', '', text) # unicode characters\n",
    "    text = re.sub(r'\\[\\d\\]', '', text) # references on wikipedia\n",
    "    # Append text to list\n",
    "    entries.append(text)"
   ]
  },
  {
   "cell_type": "markdown",
   "metadata": {},
   "source": [
    "### Save data"
   ]
  },
  {
   "cell_type": "code",
   "execution_count": 11,
   "metadata": {},
   "outputs": [],
   "source": [
    "# Convert list to dataframe\n",
    "df = pd.DataFrame(entries, columns = ['Entry'])\n",
    "# Save dataframe\n",
    "df.to_csv(f'{processed}/entries.csv', index=False)"
   ]
  }
 ],
 "metadata": {
  "interpreter": {
   "hash": "2a91c256cba68ef4286877bafc2856ddf7e6162eb38ea98735520b4dcbd73072"
  },
  "kernelspec": {
   "display_name": "Python 3.8.10 ('escritoras_latinas-kyucqLTu')",
   "language": "python",
   "name": "python3"
  },
  "language_info": {
   "codemirror_mode": {
    "name": "ipython",
    "version": 3
   },
   "file_extension": ".py",
   "mimetype": "text/x-python",
   "name": "python",
   "nbconvert_exporter": "python",
   "pygments_lexer": "ipython3",
   "version": "3.8.10"
  },
  "orig_nbformat": 4
 },
 "nbformat": 4,
 "nbformat_minor": 2
}
