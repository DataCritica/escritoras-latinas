{
 "cells": [
  {
   "cell_type": "markdown",
   "metadata": {},
   "source": [
    "### Imports"
   ]
  },
  {
   "cell_type": "code",
   "execution_count": 38,
   "metadata": {},
   "outputs": [
    {
     "name": "stdout",
     "output_type": "stream",
     "text": [
      "The autoreload extension is already loaded. To reload it, use:\n",
      "  %reload_ext autoreload\n"
     ]
    }
   ],
   "source": [
    "%load_ext autoreload\n",
    "%autoreload 2"
   ]
  },
  {
   "cell_type": "code",
   "execution_count": 1,
   "metadata": {},
   "outputs": [],
   "source": [
    "import networkx as nx\n",
    "from pyvis.network import Network\n",
    "import escritoras_latinas.data.load as load"
   ]
  },
  {
   "cell_type": "markdown",
   "metadata": {},
   "source": [
    "### Load data"
   ]
  },
  {
   "cell_type": "code",
   "execution_count": 2,
   "metadata": {},
   "outputs": [],
   "source": [
    "networks = load.networks"
   ]
  },
  {
   "cell_type": "markdown",
   "metadata": {},
   "source": [
    "### Create network graph"
   ]
  },
  {
   "cell_type": "code",
   "execution_count": 16,
   "metadata": {},
   "outputs": [
    {
     "data": {
      "text/html": [
       "\n",
       "        <iframe\n",
       "            width=\"100%\"\n",
       "            height=\"300px\"\n",
       "            src=\"/home/fxr/Documents/datacritica/escritoras_latinas/outputs/networks/index.html\"\n",
       "            frameborder=\"0\"\n",
       "            allowfullscreen\n",
       "            \n",
       "        ></iframe>\n",
       "        "
      ],
      "text/plain": [
       "<IPython.lib.display.IFrame at 0x7f6726546e20>"
      ]
     },
     "execution_count": 16,
     "metadata": {},
     "output_type": "execute_result"
    }
   ],
   "source": [
    "# Create an empty graph with no nodes and no edges\n",
    "nx_graph = nx.Graph()\n",
    "\n",
    "# Add nodes for credits sections\n",
    "nx_graph.add_node(\"Texto\", size=30, group=1, color=\"#2D00F7\")\n",
    "nx_graph.add_node(\"Creación y curaduría de datos\", size=30, group=2, color=\"#DC23A0\")\n",
    "nx_graph.add_node(\"Visualización de datos\", size=30, group=3, color=\"#23DC5F\")\n",
    "\n",
    "# Add nodes for credits participants\n",
    "nx_graph.add_node(\"Fernanda Aguirre\", size=20, color=\"#d883fd\", title=\"<p style='font-family: Arial, Helvetica, sans-serif; padding: 5px; margin: 5px;'><a href='https://twitter.com/feragru' target='_blank'>@feragru</a></p>\")\n",
    "nx_graph.add_node(\"Patricia Curiel\", size=20, group=1, color=\"#d883fd\", title=\"<p style='font-family: Arial, Helvetica, sans-serif; padding: 5px;'><a href='https://twitter.com/PatCuriel' target='_blank'>@PatCuriel</a></p>\")\n",
    "nx_graph.add_node(\"Gibran Mena\", size=20, color=\"#d883fd\", title=\"<p style='font-family: Arial, Helvetica, sans-serif; padding: 5px;'><a href='https://twitter.com/mena_gibran' target='_blank'>@mena_gibran</a></p>\")\n",
    "\n",
    "# Add edges for text group\n",
    "nx_graph.add_edge(\"Texto\", \"Fernanda Aguirre\")\n",
    "nx_graph.add_edge(\"Texto\", \"Patricia Curiel\")\n",
    "nx_graph.add_edge(\"Texto\", \"Gibran Mena\")\n",
    "\n",
    "# Add edges for data creation and curation group\n",
    "nx_graph.add_edge(\"Creación y curaduría de datos\", \"Fernanda Aguirre\")\n",
    "nx_graph.add_edge(\"Creación y curaduría de datos\", \"Patricia Curiel\")\n",
    "nx_graph.add_edge(\"Creación y curaduría de datos\", \"Gibran Mena\")\n",
    "\n",
    "# Add edge for dataviz group\n",
    "nx_graph.add_edge(\"Visualización de datos\", \"Fernanda Aguirre\")\n",
    "\n",
    "# Create network graph\n",
    "net = Network(height='300px', width='100%', notebook=True, bgcolor='#FFFFFF', font_color='black')\n",
    "\n",
    "# Generate network with specific layout settings\n",
    "net.repulsion(\n",
    "                    node_distance=300,\n",
    "                    central_gravity=0.9,\n",
    "                    spring_length=150,\n",
    "                    spring_strength=0.05,\n",
    "                    damping=0.95\n",
    "                    )\n",
    "\n",
    "# Add nodes and edges                    \n",
    "net.from_nx(nx_graph)\n",
    "\n",
    "# Save graph network as 'html'\n",
    "net.show(f'{networks}/index.html')"
   ]
  }
 ],
 "metadata": {
  "interpreter": {
   "hash": "2a91c256cba68ef4286877bafc2856ddf7e6162eb38ea98735520b4dcbd73072"
  },
  "kernelspec": {
   "display_name": "Python 3.8.10 ('escritoras_latinas-kyucqLTu')",
   "language": "python",
   "name": "python3"
  },
  "language_info": {
   "codemirror_mode": {
    "name": "ipython",
    "version": 3
   },
   "file_extension": ".py",
   "mimetype": "text/x-python",
   "name": "python",
   "nbconvert_exporter": "python",
   "pygments_lexer": "ipython3",
   "version": "3.8.10"
  },
  "orig_nbformat": 4
 },
 "nbformat": 4,
 "nbformat_minor": 2
}
