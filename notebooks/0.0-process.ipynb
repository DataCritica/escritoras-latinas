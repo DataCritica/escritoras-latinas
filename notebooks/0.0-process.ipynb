{
 "cells": [
  {
   "cell_type": "code",
   "execution_count": 2,
   "metadata": {},
   "outputs": [],
   "source": [
    "import pandas as pd\n",
    "import networkx as nx\n",
    "from pyvis.network import Network"
   ]
  },
  {
   "cell_type": "code",
   "execution_count": 3,
   "metadata": {},
   "outputs": [],
   "source": [
    "df = pd.read_csv('../data/raw/data.csv')"
   ]
  },
  {
   "cell_type": "code",
   "execution_count": 35,
   "metadata": {},
   "outputs": [],
   "source": [
    "G = nx.from_pandas_edgelist(df, \n",
    "                            source='País',\n",
    "                            target='Escritora')"
   ]
  },
  {
   "cell_type": "code",
   "execution_count": 63,
   "metadata": {},
   "outputs": [
    {
     "data": {
      "text/html": [
       "\n",
       "        <iframe\n",
       "            width=\"100%\"\n",
       "            height=\"100%\"\n",
       "            src=\"../outputs/figures/example.html\"\n",
       "            frameborder=\"0\"\n",
       "            allowfullscreen\n",
       "            \n",
       "        ></iframe>\n",
       "        "
      ],
      "text/plain": [
       "<IPython.lib.display.IFrame at 0x7f0ca22924f0>"
      ]
     },
     "execution_count": 63,
     "metadata": {},
     "output_type": "execute_result"
    }
   ],
   "source": [
    "net = Network(height='100%', width='100%', notebook=True, bgcolor='#222222', font_color='white')\n",
    "# net.show_buttons(filter_=['physics'])\n",
    "net.set_options('''\n",
    "var options = {\n",
    "  \"physics\": {\n",
    "    \"barnesHut\": {\n",
    "      \"gravitationalConstant\": -9150,\n",
    "      \"centralGravity\": 0.2,\n",
    "      \"springConstant\": 0.11\n",
    "    },\n",
    "    \"minVelocity\": 0.75\n",
    "  }\n",
    "}\n",
    "''')\n",
    "net.from_nx(G)\n",
    "\n",
    "net.show(\"../outputs/figures/example.html\")"
   ]
  }
 ],
 "metadata": {
  "interpreter": {
   "hash": "2a91c256cba68ef4286877bafc2856ddf7e6162eb38ea98735520b4dcbd73072"
  },
  "kernelspec": {
   "display_name": "Python 3.8.10 ('escritoras_latinas-kyucqLTu')",
   "language": "python",
   "name": "python3"
  },
  "language_info": {
   "codemirror_mode": {
    "name": "ipython",
    "version": 3
   },
   "file_extension": ".py",
   "mimetype": "text/x-python",
   "name": "python",
   "nbconvert_exporter": "python",
   "pygments_lexer": "ipython3",
   "version": "3.8.10"
  },
  "orig_nbformat": 4
 },
 "nbformat": 4,
 "nbformat_minor": 2
}
