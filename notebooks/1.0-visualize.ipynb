{
 "cells": [
  {
   "cell_type": "code",
   "execution_count": 22,
   "metadata": {},
   "outputs": [],
   "source": [
    "import pandas as pd\n",
    "from pyvis.network import Network"
   ]
  },
  {
   "cell_type": "code",
   "execution_count": 23,
   "metadata": {},
   "outputs": [],
   "source": [
    "# Read 'csv' file as dataframe\n",
    "df = pd.read_csv('../data/processed/escritoras_wiki.csv')"
   ]
  },
  {
   "cell_type": "code",
   "execution_count": 24,
   "metadata": {},
   "outputs": [],
   "source": [
    "# Create network graph\n",
    "net = Network(height='100%', width='100%', notebook=True, bgcolor='#222222', font_color='white')"
   ]
  },
  {
   "cell_type": "code",
   "execution_count": 25,
   "metadata": {},
   "outputs": [],
   "source": [
    "# Select data from a specific country\n",
    "df_select = df.loc[df['País'] == 'México']\n",
    "# Count rows from a column\n",
    "count = df_select['País'].count()\n",
    "source = df_select['País']\n",
    "target = df_select['Nombre']\n",
    "bio = df_select['Biografía']\n",
    "url = df_select['Url']"
   ]
  },
  {
   "cell_type": "code",
   "execution_count": 26,
   "metadata": {},
   "outputs": [],
   "source": [
    "# Create an interator with the selected data\n",
    "edge_data = zip(source, target, bio, url)"
   ]
  },
  {
   "cell_type": "code",
   "execution_count": 27,
   "metadata": {},
   "outputs": [],
   "source": [
    "# Create a node for each element on the iterator\n",
    "for e in edge_data:\n",
    "    src = e[0]\n",
    "    tgt = e[1]\n",
    "    bio = e[2]\n",
    "    url = e[3]\n",
    "    net.add_node(src, src, size=15, title=f'<p style=\"font-family: Arial, Helvetica, sans-serif; margin: 8px;\">{src}: {count} escritoras</p>', color='#0200ff')\n",
    "    net.add_node(tgt, tgt, size=15, title=f'<p style=\"font-family: Arial, Helvetica, sans-serif; width: 400px; margin: 8px;\">{bio}<br><br><a href=\"{url}\" target=\"_blank\">Leer más</a></p>', color='#23DC5F')\n",
    "    net.add_edge(src, tgt, color='#DC23A0')"
   ]
  },
  {
   "cell_type": "code",
   "execution_count": 28,
   "metadata": {},
   "outputs": [
    {
     "data": {
      "text/html": [
       "\n",
       "        <iframe\n",
       "            width=\"100%\"\n",
       "            height=\"100%\"\n",
       "            src=\"../outputs/figures/mexico.html\"\n",
       "            frameborder=\"0\"\n",
       "            allowfullscreen\n",
       "            \n",
       "        ></iframe>\n",
       "        "
      ],
      "text/plain": [
       "<IPython.lib.display.IFrame at 0x7f0da1861880>"
      ]
     },
     "execution_count": 28,
     "metadata": {},
     "output_type": "execute_result"
    }
   ],
   "source": [
    "# Generate network with specific layout settings\n",
    "net.repulsion(\n",
    "                    node_distance=400,\n",
    "                    central_gravity=0.9,\n",
    "                    spring_length=150,\n",
    "                    spring_strength=0.05,\n",
    "                    damping=0.95\n",
    "                    )\n",
    "\n",
    "# Save graph network as 'html'\n",
    "net.show(\"../outputs/figures/mexico.html\")"
   ]
  }
 ],
 "metadata": {
  "interpreter": {
   "hash": "2a91c256cba68ef4286877bafc2856ddf7e6162eb38ea98735520b4dcbd73072"
  },
  "kernelspec": {
   "display_name": "Python 3.8.10 ('escritoras_latinas-kyucqLTu')",
   "language": "python",
   "name": "python3"
  },
  "language_info": {
   "codemirror_mode": {
    "name": "ipython",
    "version": 3
   },
   "file_extension": ".py",
   "mimetype": "text/x-python",
   "name": "python",
   "nbconvert_exporter": "python",
   "pygments_lexer": "ipython3",
   "version": "3.8.10"
  },
  "orig_nbformat": 4
 },
 "nbformat": 4,
 "nbformat_minor": 2
}
