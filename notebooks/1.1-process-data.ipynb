{
 "cells": [
  {
   "cell_type": "markdown",
   "metadata": {},
   "source": [
    "### Imports"
   ]
  },
  {
   "cell_type": "code",
   "execution_count": 1,
   "metadata": {},
   "outputs": [],
   "source": [
    "import pandas as pd\n",
    "import escritoras_latinas.data.load as load"
   ]
  },
  {
   "cell_type": "markdown",
   "metadata": {},
   "source": [
    "### Load data"
   ]
  },
  {
   "cell_type": "code",
   "execution_count": 2,
   "metadata": {},
   "outputs": [],
   "source": [
    "tables = load.tables"
   ]
  },
  {
   "cell_type": "markdown",
   "metadata": {},
   "source": [
    "### Create dataframe"
   ]
  },
  {
   "cell_type": "code",
   "execution_count": 3,
   "metadata": {},
   "outputs": [
    {
     "data": {
      "text/html": [
       "<div>\n",
       "<style scoped>\n",
       "    .dataframe tbody tr th:only-of-type {\n",
       "        vertical-align: middle;\n",
       "    }\n",
       "\n",
       "    .dataframe tbody tr th {\n",
       "        vertical-align: top;\n",
       "    }\n",
       "\n",
       "    .dataframe thead th {\n",
       "        text-align: right;\n",
       "    }\n",
       "</style>\n",
       "<table border=\"1\" class=\"dataframe\">\n",
       "  <thead>\n",
       "    <tr style=\"text-align: right;\">\n",
       "      <th></th>\n",
       "      <th>Nombre</th>\n",
       "      <th>Género</th>\n",
       "    </tr>\n",
       "  </thead>\n",
       "  <tbody>\n",
       "    <tr>\n",
       "      <th>19</th>\n",
       "      <td>Octavio Paz</td>\n",
       "      <td>hombre</td>\n",
       "    </tr>\n",
       "  </tbody>\n",
       "</table>\n",
       "</div>"
      ],
      "text/plain": [
       "         Nombre  Género\n",
       "19  Octavio Paz  hombre"
      ]
     },
     "execution_count": 3,
     "metadata": {},
     "output_type": "execute_result"
    }
   ],
   "source": [
    "# Create list of lists with data from 'https://es.wikipedia.org/wiki/Literatura_latinoamericana'\n",
    "data = [['Sor Juana Inés de la Cruz', 'mujer'],\n",
    "    ['Rubén Darío', 'hombre'],\n",
    "    ['Rómulo Gallegos', 'hombre'],\n",
    "    ['Gabriela Mistral', 'mujer'],\n",
    "    ['Alfonsina Storni', 'mujer'],\n",
    "    ['Pedro Henríquez Ureña', 'hombre'],\n",
    "    ['Alfonso Reyes', 'hombre'],\n",
    "    ['César Vallejo', 'hombre'],\n",
    "    ['Vicente Huidobro', 'hombre'],\n",
    "    ['Miguel Ángel Asturias', 'hombre'],\n",
    "    ['Jorge Luis Borges', 'hombre'],\n",
    "    ['Leopoldo Marechal', 'hombre'],\n",
    "    ['Pablo Neruda', 'hombre'],\n",
    "    ['Alejo Carpentier', 'hombre'],\n",
    "    ['María Luisa Bombal', 'mujer'],\n",
    "    ['Ernesto Sabato', 'hombre'],\n",
    "    ['Nicanor Parra', 'hombre'],\n",
    "    ['José Lezama Lima', 'hombre'],\n",
    "    ['Julia de Burgos', 'mujer'],\n",
    "    ['Octavio Paz', 'hombre'],\n",
    "    ['Julio Cortázar', 'hombre'],\n",
    "    ['Juan Rulfo', 'hombre'],\n",
    "    ['José Donoso', 'hombre'],\n",
    "    ['Gabriel García Márquez', 'hombre'],\n",
    "    ['Carlos Fuentes', 'hombre'],\n",
    "    ['Elena Poniatowska', 'mujer'],\n",
    "    ['Mario Vargas Llosa', 'hombre'],\n",
    "    ['Mario Benedetti', 'hombre'],\n",
    "    ['Eduardo Galeano', 'hombre'],\n",
    "    ['Isabel Allende', 'mujer'],\n",
    "    ['Giannina Braschi', 'mujer'], \n",
    "    ['Abilio Estévez', 'hombre'],\n",
    "    ['Carmen Boullosa', 'mujer'],\n",
    "    ['Alberto Fuguet', 'hombre']\n",
    "]\n",
    "\n",
    "# Create the pandas dataframe\n",
    "df = pd.DataFrame(data, columns=['Nombre', 'Género'])\n",
    "df.sample(1)"
   ]
  },
  {
   "cell_type": "markdown",
   "metadata": {},
   "source": [
    "### Save data"
   ]
  },
  {
   "cell_type": "code",
   "execution_count": 5,
   "metadata": {},
   "outputs": [],
   "source": [
    "df.to_csv(f'{tables}/escritores_destacados.csv', index=None)"
   ]
  }
 ],
 "metadata": {
  "interpreter": {
   "hash": "2a91c256cba68ef4286877bafc2856ddf7e6162eb38ea98735520b4dcbd73072"
  },
  "kernelspec": {
   "display_name": "Python 3.8.10 ('escritoras_latinas-kyucqLTu')",
   "language": "python",
   "name": "python3"
  },
  "language_info": {
   "codemirror_mode": {
    "name": "ipython",
    "version": 3
   },
   "file_extension": ".py",
   "mimetype": "text/x-python",
   "name": "python",
   "nbconvert_exporter": "python",
   "pygments_lexer": "ipython3",
   "version": "3.8.10"
  },
  "orig_nbformat": 4
 },
 "nbformat": 4,
 "nbformat_minor": 2
}
