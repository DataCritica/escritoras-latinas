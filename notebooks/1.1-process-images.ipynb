{
 "cells": [
  {
   "cell_type": "markdown",
   "metadata": {},
   "source": [
    "### Imports"
   ]
  },
  {
   "cell_type": "code",
   "execution_count": 1,
   "metadata": {},
   "outputs": [],
   "source": [
    "import os\n",
    "import re\n",
    "from PIL import Image\n",
    "import escritoras_latinas.data.load as load"
   ]
  },
  {
   "cell_type": "markdown",
   "metadata": {},
   "source": [
    "### Load data"
   ]
  },
  {
   "cell_type": "code",
   "execution_count": 2,
   "metadata": {},
   "outputs": [],
   "source": [
    "imgs = load.imgs\n",
    "imgs_processed = load.imgs_processed\n",
    "targets = load.targets\n",
    "targets_processed = load.targets_processed"
   ]
  },
  {
   "cell_type": "markdown",
   "metadata": {},
   "source": [
    "### Process images"
   ]
  },
  {
   "cell_type": "code",
   "execution_count": 5,
   "metadata": {},
   "outputs": [],
   "source": [
    "# Generate file names in a directory tree\n",
    "path, dirs, files = next(os.walk(f'{targets}'))\n",
    "\n",
    "# Iterate through files\n",
    "for file in files:\n",
    "    # Open image\n",
    "    img = Image.open(f'{targets}/{file}')\n",
    "    # Apply black & white filter\n",
    "    img = img.convert('L')\n",
    "    # Match file name without extension\n",
    "    filename = re.findall(r'(.*)\\.', file)\n",
    "    # Save image\n",
    "    img.save(f'{targets_processed}/{filename[0]}.jpg')"
   ]
  },
  {
   "cell_type": "code",
   "execution_count": null,
   "metadata": {},
   "outputs": [],
   "source": [
    "# Generate file names in a directory tree\n",
    "path, dirs, files = next(os.walk(f'{imgs}'))\n",
    "\n",
    "# Iterate through files\n",
    "for file in files:\n",
    "    # Open image\n",
    "    img = Image.open(f'{imgs}/{file}')\n",
    "    # Apply black & white filter\n",
    "    img = img.convert('L')\n",
    "    # Match file name without extension\n",
    "    filename = re.findall(r'(.*)\\.', file)\n",
    "    # Save image\n",
    "    img.save(f'{imgs_processed}/{filename[0]}.jpg')"
   ]
  }
 ],
 "metadata": {
  "interpreter": {
   "hash": "2a91c256cba68ef4286877bafc2856ddf7e6162eb38ea98735520b4dcbd73072"
  },
  "kernelspec": {
   "display_name": "Python 3.8.10 ('escritoras_latinas-kyucqLTu')",
   "language": "python",
   "name": "python3"
  },
  "language_info": {
   "codemirror_mode": {
    "name": "ipython",
    "version": 3
   },
   "file_extension": ".py",
   "mimetype": "text/x-python",
   "name": "python",
   "nbconvert_exporter": "python",
   "pygments_lexer": "ipython3",
   "version": "3.8.10"
  },
  "orig_nbformat": 4
 },
 "nbformat": 4,
 "nbformat_minor": 2
}
