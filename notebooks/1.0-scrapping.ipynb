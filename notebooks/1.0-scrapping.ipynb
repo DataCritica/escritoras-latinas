{
 "cells": [
  {
   "cell_type": "code",
   "execution_count": 1,
   "metadata": {},
   "outputs": [],
   "source": [
    "import re\n",
    "import requests\n",
    "import pandas as pd\n",
    "from bs4 import BeautifulSoup"
   ]
  },
  {
   "cell_type": "code",
   "execution_count": 103,
   "metadata": {},
   "outputs": [],
   "source": [
    "# Read 'csv' file as dataframe\n",
    "df = pd.read_csv('../data/raw/escritoras.csv')\n",
    "# Create a list from a column values\n",
    "urls = df['Url'].tolist()"
   ]
  },
  {
   "cell_type": "code",
   "execution_count": 86,
   "metadata": {},
   "outputs": [],
   "source": [
    "# Create an empty list\n",
    "bios = []\n",
    "# Scrapping\n",
    "for i in range(len(urls)):\n",
    "    # Make requests to the specified urls\n",
    "    response = requests.get(urls[i])\n",
    "    # Return content of the response\n",
    "    html = response.text\n",
    "    # Parse html\n",
    "    soup = BeautifulSoup(html, 'html.parser')\n",
    "    # Look for <p> tag\n",
    "    bio = soup.find('p')\n",
    "    # Extract text from tag\n",
    "    text = bio.text\n",
    "    # Clean text with regex\n",
    "    text = re.sub(r'\\n', '', text) # new lines\n",
    "    text = re.sub(r'\\u200b', '', text) # unicode character\n",
    "    text = re.sub(r'\\[\\d\\]', '', text) # references on wikipedia\n",
    "    # Append text to list\n",
    "    bios.append(text)"
   ]
  },
  {
   "cell_type": "code",
   "execution_count": 99,
   "metadata": {},
   "outputs": [],
   "source": [
    "# Convert list to column on dataframe\n",
    "df = df.assign(Biografía=bios)\n",
    "df"
   ]
  },
  {
   "cell_type": "code",
   "execution_count": 101,
   "metadata": {},
   "outputs": [],
   "source": [
    "# Save dataframe as 'csv' file\n",
    "df.to_csv('../data/processed/escritoras_wiki.csv', index=False)"
   ]
  },
  {
   "cell_type": "code",
   "execution_count": 2,
   "metadata": {},
   "outputs": [],
   "source": [
    "df = pd.read_csv('../data/processed/escritoras_wiki.csv')"
   ]
  },
  {
   "cell_type": "code",
   "execution_count": 4,
   "metadata": {},
   "outputs": [
    {
     "data": {
      "text/plain": [
       "['Argentina',\n",
       " 'Bolivia',\n",
       " 'Brasil',\n",
       " 'Chile',\n",
       " 'Colombia',\n",
       " 'Costa Rica',\n",
       " 'Cuba',\n",
       " 'Ecuador',\n",
       " 'El Salvador',\n",
       " 'Guatemala',\n",
       " 'Guyana',\n",
       " 'Haití',\n",
       " 'Honduras',\n",
       " 'México',\n",
       " 'Nicaragua',\n",
       " 'Panamá',\n",
       " 'Paraguay',\n",
       " 'Perú',\n",
       " 'Puerto Rico',\n",
       " 'República Dominicana',\n",
       " 'Surinam',\n",
       " 'Uruguay',\n",
       " 'Venezuela']"
      ]
     },
     "execution_count": 4,
     "metadata": {},
     "output_type": "execute_result"
    }
   ],
   "source": [
    "countries = df['País'].drop_duplicates().to_list()\n",
    "countries.sort()\n",
    "countries"
   ]
  }
 ],
 "metadata": {
  "interpreter": {
   "hash": "2a91c256cba68ef4286877bafc2856ddf7e6162eb38ea98735520b4dcbd73072"
  },
  "kernelspec": {
   "display_name": "Python 3.8.10 ('escritoras_latinas-kyucqLTu')",
   "language": "python",
   "name": "python3"
  },
  "language_info": {
   "codemirror_mode": {
    "name": "ipython",
    "version": 3
   },
   "file_extension": ".py",
   "mimetype": "text/x-python",
   "name": "python",
   "nbconvert_exporter": "python",
   "pygments_lexer": "ipython3",
   "version": "3.8.10"
  },
  "orig_nbformat": 4
 },
 "nbformat": 4,
 "nbformat_minor": 2
}
